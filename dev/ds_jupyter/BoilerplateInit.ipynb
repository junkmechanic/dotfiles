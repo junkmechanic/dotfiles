{
 "cells": [
  {
   "cell_type": "markdown",
   "metadata": {},
   "source": [
    "# INIT"
   ]
  },
  {
   "cell_type": "markdown",
   "metadata": {},
   "source": [
    "## Imports"
   ]
  },
  {
   "cell_type": "code",
   "execution_count": null,
   "metadata": {
    "ExecuteTime": {
     "end_time": "2020-06-20T17:49:12.524927Z",
     "start_time": "2020-06-20T17:49:10.699Z"
    },
    "scrolled": true
   },
   "outputs": [],
   "source": [
    "# Initializing\n",
    "\n",
    "# general purpose\n",
    "import pickle\n",
    "import pandas as pd\n",
    "import numpy as np\n",
    "import scipy.stats as stats\n",
    "import scipy\n",
    "\n",
    "# plotting\n",
    "%matplotlib inline\n",
    "import matplotlib.pyplot as plt\n",
    "import matplotlib.pylab as mpl\n",
    "import matplotlib.mlab as mlab\n",
    "import matplotlib\n",
    "import seaborn as sns\n",
    "mpl.rcParams['font.family'] = 'DejaVu Sans'\n",
    "sns.set(palette='muted')\n",
    "default_palette = sns.color_palette()\n",
    "sns.palplot(default_palette)\n",
    "\n",
    "# display\n",
    "from pprint import pprint\n",
    "from IPython.display import display\n",
    "from tqdm import tqdm_notebook\n",
    "\n",
    "import os\n",
    "import re\n",
    "import copy\n",
    "import glob\n",
    "import json\n",
    "import math\n",
    "import itertools\n",
    "from collections import namedtuple\n",
    "import functools\n",
    "import time\n",
    "from pprint import pprint\n",
    "from datetime import datetime\n",
    "from datetime import timedelta\n",
    "\n",
    "PROJECT_DIR = '/home/ankur/notebooks/'\n",
    "def get_path(path_str):\n",
    "    return os.path.join(PROJECT_DIR, path_str)"
   ]
  },
  {
   "cell_type": "markdown",
   "metadata": {},
   "source": [
    "## Convenience"
   ]
  },
  {
   "cell_type": "code",
   "execution_count": null,
   "metadata": {
    "ExecuteTime": {
     "end_time": "2020-06-20T17:49:12.529502Z",
     "start_time": "2020-06-20T17:49:10.702Z"
    }
   },
   "outputs": [],
   "source": [
    "def expanding_pipe(df, window_function, min_periods=0):\n",
    "    return pd.Series(\n",
    "        [\n",
    "            df.iloc[0:i].pipe(window_function)\n",
    "            if i > min_periods else None\n",
    "            for i in range(1, len(df) + 1)\n",
    "        ],\n",
    "        index=df.index\n",
    "    ) \n",
    "\n",
    "\n",
    "def rolling_pipe(df, offsets, window_function, overflow=None):\n",
    "    '''\n",
    "    offsets: a tuple/list/iterable such that (0, 0) will return one row at a time\n",
    "             the first element is the row from the current row it will start the window at,\n",
    "             and the second element is where it would stop the window\n",
    "    overflow: can be 'clipped', 'circular' or None\n",
    "    '''\n",
    "    return pd.Series(\n",
    "        [\n",
    "            df.iloc[max(i + offsets[0], 0) : i + offsets[1] + 1].pipe(window_function)\n",
    "            if overflow == 'clipped' else\n",
    "            \n",
    "            (\n",
    "                pd.concat((\n",
    "                    df.tail(-min(i + offsets[0], 0)),\n",
    "                    df.iloc[max(i + offsets[0], 0): i + offsets[1] + 1],\n",
    "                    df.head(max(i + offsets[1] - len(df) + 1, 0))\n",
    "                ))\n",
    "                .pipe(window_function)\n",
    "            )\n",
    "            if overflow == 'circular' else\n",
    "            \n",
    "            df.iloc[i + offsets[0] : i + offsets[1] + 1].pipe(window_function)\n",
    "                \n",
    "            for i in range(0, len(df))\n",
    "        ],\n",
    "        index = df.index\n",
    "    )"
   ]
  },
  {
   "cell_type": "code",
   "execution_count": null,
   "metadata": {
    "ExecuteTime": {
     "end_time": "2020-06-20T17:49:12.533170Z",
     "start_time": "2020-06-20T17:49:10.704Z"
    }
   },
   "outputs": [],
   "source": [
    "def jointplot(\n",
    "    x, y,\n",
    "    x_bins=10, y_bins=10,\n",
    "    alpha=1.0,\n",
    "    side_alphas=(0.8, 0.8),\n",
    "    histtype='step',\n",
    "    linestyle='dashed',\n",
    "    figsize=(8, 8),\n",
    "):\n",
    "    plt.figure(figsize=figsize)\n",
    "    gs = plt.GridSpec(\n",
    "        3, 3,\n",
    "        wspace=0.1, hspace=0.1,\n",
    "        width_ratios=[3, 3, 1], height_ratios=[1, 3, 3]\n",
    "    )\n",
    "    ax_main = plt.subplot(gs[1:, :-1])\n",
    "    ax_top = plt.subplot(gs[0, :-1])\n",
    "    ax_right = plt.subplot(gs[1:, -1])\n",
    "    ax_main.scatter(x, y, alpha=alpha)\n",
    "    ax_top.hist(x, bins=x_bins, alpha=side_alphas[0], histtype=histtype, linestyle=linestyle)\n",
    "    ax_right.hist(y, bins=y_bins, alpha=side_alphas[1], orientation='horizontal', histtype=histtype, linestyle=linestyle)\n",
    "    ax_main.set_xticks(np.linspace(ax_main.get_xbound()[0], ax_main.get_xbound()[1], len(ax_main.get_xticks())))\n",
    "    ax_top.set_xticks(np.linspace(ax_main.get_xbound()[0], ax_main.get_xbound()[1], len(ax_main.get_xticks())))\n",
    "    ax_top.set_xticklabels([])\n",
    "    ax_top.yaxis.grid(False)\n",
    "    \n",
    "    ax_main.set_yticks(np.linspace(ax_main.get_ybound()[0], ax_main.get_ybound()[1], len(ax_main.get_yticks())))\n",
    "    ax_right.set_yticks(np.linspace(ax_main.get_ybound()[0], ax_main.get_ybound()[1], len(ax_main.get_yticks())))\n",
    "    ax_right.set_yticklabels([])\n",
    "    ax_right.xaxis.grid(False)"
   ]
  },
  {
   "cell_type": "code",
   "execution_count": null,
   "metadata": {
    "ExecuteTime": {
     "end_time": "2020-06-20T17:49:12.536720Z",
     "start_time": "2020-06-20T17:49:10.707Z"
    }
   },
   "outputs": [],
   "source": [
    "def display_full(x):\n",
    "    pd.set_option('display.max_rows', len(x))\n",
    "    pd.set_option('display.max_colwidth', -1)\n",
    "    display(x)\n",
    "    pd.reset_option('display.max_rows')\n",
    "    pd.reset_option('display.max_colwidth')\n",
    "\n",
    "def widen_df(x):\n",
    "    pd.set_option('display.max_colwidth', -1)\n",
    "    display(x)\n",
    "    pd.reset_option('display.max_colwidth')"
   ]
  },
  {
   "cell_type": "code",
   "execution_count": null,
   "metadata": {
    "ExecuteTime": {
     "end_time": "2020-06-20T17:49:12.541168Z",
     "start_time": "2020-06-20T17:49:10.709Z"
    }
   },
   "outputs": [],
   "source": [
    "from concurrent.futures import ProcessPoolExecutor\n",
    "from functools import wraps\n",
    "\n",
    "\n",
    "class Futurize:\n",
    "    exec_pool = ProcessPoolExecutor()\n",
    "    exec_jobs = {}\n",
    "    \n",
    "    def __init__(self, func):\n",
    "        self._func = func\n",
    "        self._func_name = func.__name__\n",
    "        \n",
    "    def __call__(self, *args, **kwargs):\n",
    "        start_time = time.asctime(time.localtime())\n",
    "        extra_type = kwargs.pop('extra_type', None)\n",
    "        futured = self.exec_pool.submit(self._func, *args, **kwargs)\n",
    "        type_str = '{} - {}'.format(self._func_name, extra_type) if extra_type else self._func_name\n",
    "        self.exec_jobs[futured] = {\n",
    "            'start_time': start_time,\n",
    "            'type': type_str,\n",
    "        }\n",
    "        return futured\n",
    "    \n",
    "    @staticmethod\n",
    "    def result(future_instance):\n",
    "        try:\n",
    "            result = future_instance.result()\n",
    "        except:\n",
    "            raise\n",
    "        finally:\n",
    "            del Futurize.exec_jobs[future_instance]\n",
    "        return result\n",
    "\n",
    "\n",
    "def query_as_df(sql):\n",
    "    try:\n",
    "        conn = jaydebeapi.connect(**conn_props)\n",
    "    except:\n",
    "        raise\n",
    "\n",
    "    try:\n",
    "        start_time = time.time()\n",
    "        query_df = pd.read_sql_query(sql, conn)\n",
    "        print(\"Time To Query: {:2.2f} sec\".format(time.time()-start_time))\n",
    "        return query_df\n",
    "    except:\n",
    "        raise\n",
    "    finally:\n",
    "        conn.close()"
   ]
  },
  {
   "cell_type": "code",
   "execution_count": null,
   "metadata": {
    "ExecuteTime": {
     "end_time": "2020-06-20T17:49:12.543815Z",
     "start_time": "2020-06-20T17:49:10.711Z"
    }
   },
   "outputs": [],
   "source": [
    "import multiprocessing as mp\n",
    "\n",
    "def pandas_mp_apply(grouped_df, apply_func):\n",
    "    with mp.Pool(mp.cpu_count()) as p:\n",
    "        ret_list = p.map(apply_func, [group for name, group in grouped_df])\n",
    "    return pd.concat(ret_list)"
   ]
  },
  {
   "cell_type": "code",
   "execution_count": null,
   "metadata": {
    "ExecuteTime": {
     "end_time": "2018-08-11T15:26:48.205236Z",
     "start_time": "2018-08-11T15:26:48.202594Z"
    }
   },
   "outputs": [],
   "source": [
    "query_as_df_async = Futurize(query_as_df)\n",
    "pandas_mp_apply_async = Futurize(pandas_mp_apply)"
   ]
  },
  {
   "cell_type": "code",
   "execution_count": null,
   "metadata": {
    "ExecuteTime": {
     "end_time": "2020-06-20T17:49:12.550976Z",
     "start_time": "2020-06-20T17:49:10.715Z"
    }
   },
   "outputs": [],
   "source": [
    "def date_range(start_time,end_time,hour_shift=0,table=None):\n",
    "    #### function to get the date range string for SQL\n",
    "\n",
    "    s = pd.to_datetime(start_time) - pd.Timedelta(hours = hour_shift)\n",
    "    e = pd.to_datetime(end_time) - pd.Timedelta(hours = hour_shift)\n",
    "    s_day =  datetime.datetime(year=s.year, month=s.month, day=s.day)\n",
    "    e_day =  datetime.datetime(year=e.year, month=e.month, day=e.day)\n",
    "    year_list = [s_day.year]\n",
    "    month_list = [[s_day.month]]\n",
    "    day_list = [[[]]]\n",
    "    while s_day <= e_day:\n",
    "        if s_day.year != year_list[-1]:\n",
    "            year_list.append(s_day.year)\n",
    "            month_list.append([s_day.month])\n",
    "            day_list.append([[s_day.day]])\n",
    "        elif s_day.month != month_list[-1][-1]:\n",
    "            month_list[-1].append(s_day.month)\n",
    "            day_list[-1].append([s_day.day])\n",
    "        else:\n",
    "            day_list[-1][-1].append(s_day.day)\n",
    "        s_day += timedelta(days=1)\n",
    "\n",
    "\n",
    "    if table is None or table == '' or len(table) == 0 or isinstance(table, list) == False:\n",
    "        string = '('\n",
    "    else:\n",
    "        string = ['(']*len(table)\n",
    "    for y in range(len(year_list)):\n",
    "        for m in range(len(month_list[y])):\n",
    "            min_day = day_list[y][m][0]\n",
    "            max_day = day_list[y][m][-1]\n",
    "            if table is None or table == '' or len(table) == 0 :\n",
    "                string += \"(year = \\'%4d\\' and month = \\'%02d\\' and day between \\'%02d\\' and \\'%02d\\')\\n or \" \\\n",
    "                    %(year_list[y], month_list[y][m], min_day,max_day)\n",
    "            elif isinstance(table, list) == False:\n",
    "                string += \"(%s.year = \\'%4d\\' and %s.month = \\'%02d\\' and %s.day between \\'%02d\\' and \\'%02d\\')\\n or \" \\\n",
    "                        %(table,year_list[y], table, month_list[y][m], table, min_day,max_day)\n",
    "            else:\n",
    "                for i in range(len(string)):\n",
    "                    if  table[i] is None or len(table[i]) == 0:\n",
    "                        string[i] += \"(year = \\'%4d\\' and month = \\'%02d\\' and day between \\'%02d\\' and \\'%02d\\')\\n or \" \\\n",
    "                            %(year_list[y], month_list[y][m], min_day,max_day)\n",
    "                    else:\n",
    "                        string[i] += \"(%s.year = \\'%4d\\' and %s.month = \\'%02d\\' and %s.day between \\'%02d\\' and \\'%02d\\')\\n or \" \\\n",
    "                            %(table[i],year_list[y], table[i], month_list[y][m], table[i], min_day,max_day)\n",
    "    if table is None or table == '' or len(table) == 0 or isinstance(table, list) == False:\n",
    "        string = string[:-5]\n",
    "        string += ')'\n",
    "    else:\n",
    "        for i in range(len(string)):\n",
    "            string[i] = string[i][:-5]\n",
    "            string[i] += ')'\n",
    "    return string"
   ]
  },
  {
   "cell_type": "markdown",
   "metadata": {},
   "source": [
    "## Spark UDFs"
   ]
  },
  {
   "cell_type": "code",
   "execution_count": null,
   "metadata": {},
   "outputs": [],
   "source": [
    "def year_of_week(x):\n",
    "    # weekday returns value between 0 to 6\n",
    "    if isinstance(x, float) or isinstance(x, int):\n",
    "        dt = datetime.datetime.fromtimestamp(x)\n",
    "    if isinstance(x, str) or isinstance(x, str):\n",
    "        dt = datetime.datetime.strptime(x, '%Y-%m-%d')\n",
    "    if isinstance(x, datetime.date) or isinstance(x, datetime.datetime):\n",
    "        dt = x\n",
    "    monday = dt - datetime.timedelta(days=dt.weekday())\n",
    "    return monday.year\n",
    "\n",
    "spark.udf.register(\"yow\", year_of_week)\n",
    "\n",
    "\n",
    "def week(x):\n",
    "    # weekday returns value between 0 to 6\n",
    "    if isinstance(x, float) or isinstance(x, int):\n",
    "        dt = datetime.datetime.fromtimestamp(x)\n",
    "    if isinstance(x, str) or isinstance(x, str):\n",
    "        dt = datetime.datetime.strptime(x, '%Y-%m-%d')\n",
    "    if isinstance(x, datetime.date) or isinstance(x, datetime.datetime):\n",
    "        dt = x\n",
    "    return dt.isocalendar()[1]\n",
    "\n",
    "spark.udf.register(\"week\", week)\n",
    "\n",
    "\n",
    "def day_of_week(x):\n",
    "    # weekday returns value between 0 to 6\n",
    "    if isinstance(x, float) or isinstance(x, int):\n",
    "        dt = datetime.datetime.fromtimestamp(x)\n",
    "    if isinstance(x, str) or isinstance(x, str):\n",
    "        dt = datetime.datetime.strptime(x, '%Y-%m-%d')\n",
    "    if isinstance(x, datetime.date) or isinstance(x, datetime.datetime):\n",
    "        dt = x\n",
    "    return dt.weekday()+1\n",
    "\n",
    "spark.udf.register(\"dow\", day_of_week)\n",
    "\n",
    "\n",
    "def week_start(x):\n",
    "    if isinstance(x, float) or isinstance(x, int):\n",
    "        dt = datetime.datetime.fromtimestamp(x)\n",
    "    elif isinstance(x, str) or isinstance(x, str):\n",
    "        dt = datetime.datetime.strptime(x, '%Y-%m-%d')\n",
    "    elif isinstance(x, datetime.date) or isinstance(x, datetime.datetime):\n",
    "        dt = x\n",
    "    else:\n",
    "        # dangerous\n",
    "        dt = x\n",
    "    return str(dt - datetime.timedelta(days=dt.weekday()))\n",
    "    \n",
    "spark.udf.register('week_start', week_start)\n",
    "\n",
    "\n",
    "def array_to_string(arr):\n",
    "    return '[' + ','.join([str(element) for element in arr]) + ']'\n",
    "\n",
    "spark.udf.register('array_to_string', array_to_string)"
   ]
  }
 ],
 "metadata": {
  "kernelspec": {
   "display_name": "Python 3",
   "language": "python",
   "name": "python3"
  },
  "language_info": {
   "codemirror_mode": {
    "name": "ipython",
    "version": 3
   },
   "file_extension": ".py",
   "mimetype": "text/x-python",
   "name": "python",
   "nbconvert_exporter": "python",
   "pygments_lexer": "ipython3",
   "version": "3.6.9"
  },
  "toc": {
   "base_numbering": 1,
   "nav_menu": {},
   "number_sections": true,
   "sideBar": true,
   "skip_h1_title": false,
   "title_cell": "Table of Contents",
   "title_sidebar": "Contents",
   "toc_cell": false,
   "toc_position": {
    "height": "calc(100% - 180px)",
    "left": "10px",
    "top": "150px",
    "width": "200px"
   },
   "toc_section_display": true,
   "toc_window_display": false
  },
  "varInspector": {
   "cols": {
    "lenName": 16,
    "lenType": 16,
    "lenVar": 40
   },
   "kernels_config": {
    "python": {
     "delete_cmd_postfix": "",
     "delete_cmd_prefix": "del ",
     "library": "var_list.py",
     "varRefreshCmd": "print(var_dic_list())"
    },
    "r": {
     "delete_cmd_postfix": ") ",
     "delete_cmd_prefix": "rm(",
     "library": "var_list.r",
     "varRefreshCmd": "cat(var_dic_list()) "
    }
   },
   "position": {
    "height": "292px",
    "left": "1078px",
    "right": "20px",
    "top": "122px",
    "width": "354px"
   },
   "types_to_exclude": [
    "module",
    "function",
    "builtin_function_or_method",
    "instance",
    "_Feature"
   ],
   "window_display": false
  }
 },
 "nbformat": 4,
 "nbformat_minor": 2
}
